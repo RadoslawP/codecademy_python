{
 "cells": [
  {
   "cell_type": "code",
   "execution_count": 1,
   "id": "6efa76bc",
   "metadata": {},
   "outputs": [],
   "source": [
    "def append_size(lst):\n",
    "    lst.append(len(lst))\n",
    "    return lst"
   ]
  },
  {
   "cell_type": "code",
   "execution_count": 2,
   "id": "e576f3cd",
   "metadata": {},
   "outputs": [
    {
     "name": "stdout",
     "output_type": "stream",
     "text": [
      "[23, 42, 108, 3]\n"
     ]
    }
   ],
   "source": [
    "print(append_size([23, 42, 108]))"
   ]
  },
  {
   "cell_type": "code",
   "execution_count": 8,
   "id": "e730caf9",
   "metadata": {},
   "outputs": [],
   "source": [
    "def append_sum(lst):\n",
    "    for i in range(3):\n",
    "        lst.append(lst[-1] + lst[-2])\n",
    "    return lst"
   ]
  },
  {
   "cell_type": "code",
   "execution_count": 9,
   "id": "7edacc0d",
   "metadata": {},
   "outputs": [
    {
     "name": "stdout",
     "output_type": "stream",
     "text": [
      "[1, 1, 2, 3, 5, 8]\n"
     ]
    }
   ],
   "source": [
    "print(append_sum([1, 1, 2]))"
   ]
  },
  {
   "cell_type": "code",
   "execution_count": 14,
   "id": "eecdd7f2",
   "metadata": {},
   "outputs": [],
   "source": [
    "def larger_list(lst1, lst2):\n",
    "    if len(lst1) >= len(lst2):\n",
    "        return lst1[-1]\n",
    "    else:\n",
    "        return lst2[-1]"
   ]
  },
  {
   "cell_type": "code",
   "execution_count": 15,
   "id": "81bf1127",
   "metadata": {},
   "outputs": [
    {
     "name": "stdout",
     "output_type": "stream",
     "text": [
      "5\n"
     ]
    }
   ],
   "source": [
    "print(larger_list([4, 10, 2, 5], [-10, 2, 5, 10]))"
   ]
  },
  {
   "cell_type": "code",
   "execution_count": 17,
   "id": "facac223",
   "metadata": {},
   "outputs": [],
   "source": [
    "def more_than_n(lst, item, n):\n",
    "    if n < lst.count(item):\n",
    "        return True\n",
    "    else: \n",
    "        return False"
   ]
  },
  {
   "cell_type": "code",
   "execution_count": 18,
   "id": "92a5490d",
   "metadata": {},
   "outputs": [
    {
     "name": "stdout",
     "output_type": "stream",
     "text": [
      "True\n"
     ]
    }
   ],
   "source": [
    "print(more_than_n([2, 4, 6, 2, 3, 2, 1, 2], 2, 3))"
   ]
  },
  {
   "cell_type": "code",
   "execution_count": 19,
   "id": "ba139d55",
   "metadata": {},
   "outputs": [],
   "source": [
    "def combine_sort(lst1, lst2):\n",
    "    lst3 = lst1 + lst2\n",
    "    return sorted(lst3)"
   ]
  },
  {
   "cell_type": "code",
   "execution_count": 20,
   "id": "0bc21d06",
   "metadata": {},
   "outputs": [
    {
     "name": "stdout",
     "output_type": "stream",
     "text": [
      "[-10, 2, 2, 4, 5, 5, 10, 10]\n"
     ]
    }
   ],
   "source": [
    "print(combine_sort([4, 10, 2, 5], [-10, 2, 5, 10]))"
   ]
  },
  {
   "cell_type": "code",
   "execution_count": null,
   "id": "3c0753e1",
   "metadata": {},
   "outputs": [],
   "source": []
  }
 ],
 "metadata": {
  "kernelspec": {
   "display_name": "Python 3 (ipykernel)",
   "language": "python",
   "name": "python3"
  },
  "language_info": {
   "codemirror_mode": {
    "name": "ipython",
    "version": 3
   },
   "file_extension": ".py",
   "mimetype": "text/x-python",
   "name": "python",
   "nbconvert_exporter": "python",
   "pygments_lexer": "ipython3",
   "version": "3.9.7"
  }
 },
 "nbformat": 4,
 "nbformat_minor": 5
}
