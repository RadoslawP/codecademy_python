{
 "cells": [
  {
   "cell_type": "code",
   "execution_count": 9,
   "id": "bb804a18",
   "metadata": {},
   "outputs": [],
   "source": [
    "def divisible_by_ten(nums):\n",
    "    counter = 0\n",
    "    for num in nums:\n",
    "        if (num % 10 == 0):\n",
    "            counter += 1\n",
    "    return counter"
   ]
  },
  {
   "cell_type": "code",
   "execution_count": 10,
   "id": "bb369fe2",
   "metadata": {},
   "outputs": [
    {
     "name": "stdout",
     "output_type": "stream",
     "text": [
      "3\n"
     ]
    }
   ],
   "source": [
    "print(divisible_by_ten([20, 25, 30, 35, 40]))"
   ]
  },
  {
   "cell_type": "code",
   "execution_count": 13,
   "id": "d28e7de2",
   "metadata": {},
   "outputs": [],
   "source": [
    "def add_greetings(names):\n",
    "    greetings = []\n",
    "    for name in names:\n",
    "        greetings.append(\"Hello \" + name)\n",
    "    return greetings"
   ]
  },
  {
   "cell_type": "code",
   "execution_count": 14,
   "id": "610e99ef",
   "metadata": {},
   "outputs": [
    {
     "name": "stdout",
     "output_type": "stream",
     "text": [
      "['Hello Owen', 'Hello Max', 'Hello Sophie']\n"
     ]
    }
   ],
   "source": [
    "print(add_greetings([\"Owen\", \"Max\", \"Sophie\"]))"
   ]
  },
  {
   "cell_type": "code",
   "execution_count": 3,
   "id": "b898db80",
   "metadata": {},
   "outputs": [],
   "source": [
    "def delete_starting_evens(lst):\n",
    "    while (len(lst) > 0 and lst[0] % 2 == 0):\n",
    "        lst = lst[1:]\n",
    "    return lst"
   ]
  },
  {
   "cell_type": "code",
   "execution_count": 4,
   "id": "41adbb19",
   "metadata": {},
   "outputs": [
    {
     "name": "stdout",
     "output_type": "stream",
     "text": [
      "[11, 12, 15]\n",
      "[]\n"
     ]
    }
   ],
   "source": [
    "print(delete_starting_evens([4, 8, 10, 11, 12, 15]))\n",
    "print(delete_starting_evens([4, 8, 10]))"
   ]
  },
  {
   "cell_type": "code",
   "execution_count": 6,
   "id": "236b4302",
   "metadata": {},
   "outputs": [],
   "source": [
    "def odd_indices(lst):\n",
    "    new_lst = []\n",
    "    for index in range(1, len(lst), 2):\n",
    "        new_lst.append(lst[index])\n",
    "    return new_lst"
   ]
  },
  {
   "cell_type": "code",
   "execution_count": 7,
   "id": "b3f3eb0f",
   "metadata": {},
   "outputs": [
    {
     "name": "stdout",
     "output_type": "stream",
     "text": [
      "[3, 10, -2]\n"
     ]
    }
   ],
   "source": [
    "print(odd_indices([4, 3, 7, 10, 11, -2]))"
   ]
  },
  {
   "cell_type": "code",
   "execution_count": 9,
   "id": "f4784441",
   "metadata": {},
   "outputs": [],
   "source": [
    "def exponents(bases, powers):\n",
    "    new_lst = []\n",
    "    for base in bases:\n",
    "        for power in powers:\n",
    "            new_lst.append(base ** power)\n",
    "    return new_lst"
   ]
  },
  {
   "cell_type": "code",
   "execution_count": 10,
   "id": "e0f7f9f4",
   "metadata": {},
   "outputs": [
    {
     "name": "stdout",
     "output_type": "stream",
     "text": [
      "[2, 4, 8, 3, 9, 27, 4, 16, 64]\n"
     ]
    }
   ],
   "source": [
    "print(exponents([2, 3, 4], [1, 2, 3]))"
   ]
  },
  {
   "cell_type": "code",
   "execution_count": null,
   "id": "ee880498",
   "metadata": {},
   "outputs": [],
   "source": []
  }
 ],
 "metadata": {
  "kernelspec": {
   "display_name": "Python 3 (ipykernel)",
   "language": "python",
   "name": "python3"
  },
  "language_info": {
   "codemirror_mode": {
    "name": "ipython",
    "version": 3
   },
   "file_extension": ".py",
   "mimetype": "text/x-python",
   "name": "python",
   "nbconvert_exporter": "python",
   "pygments_lexer": "ipython3",
   "version": "3.9.7"
  }
 },
 "nbformat": 4,
 "nbformat_minor": 5
}
