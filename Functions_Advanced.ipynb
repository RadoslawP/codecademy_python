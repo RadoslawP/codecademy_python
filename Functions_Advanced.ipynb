{
 "cells": [
  {
   "cell_type": "code",
   "execution_count": 13,
   "id": "0dfb2e98",
   "metadata": {},
   "outputs": [],
   "source": [
    "def first_three_multiples(num):\n",
    "    print(num)\n",
    "    print(num * 2)\n",
    "    print(num * 3)\n",
    "    return num * 3"
   ]
  },
  {
   "cell_type": "code",
   "execution_count": 14,
   "id": "d0f97005",
   "metadata": {},
   "outputs": [
    {
     "name": "stdout",
     "output_type": "stream",
     "text": [
      "10\n",
      "20\n",
      "30\n",
      "0\n",
      "0\n",
      "0\n"
     ]
    },
    {
     "data": {
      "text/plain": [
       "0"
      ]
     },
     "execution_count": 14,
     "metadata": {},
     "output_type": "execute_result"
    }
   ],
   "source": [
    "first_three_multiples(10)\n",
    "first_three_multiples(0)"
   ]
  },
  {
   "cell_type": "code",
   "execution_count": 15,
   "id": "b7a2b37e",
   "metadata": {},
   "outputs": [],
   "source": [
    "def tip(total, percentage):\n",
    "    return total * percentage / 100"
   ]
  },
  {
   "cell_type": "code",
   "execution_count": 16,
   "id": "c59858f1",
   "metadata": {},
   "outputs": [
    {
     "name": "stdout",
     "output_type": "stream",
     "text": [
      "2.5\n",
      "0.0\n"
     ]
    }
   ],
   "source": [
    "print(tip(10, 25))\n",
    "print(tip(0, 100))"
   ]
  },
  {
   "cell_type": "code",
   "execution_count": 17,
   "id": "c6b4b0fc",
   "metadata": {},
   "outputs": [],
   "source": [
    "def introduction(first_name, last_name):\n",
    "    return last_name + \", \" + first_name + \" \" + last_name"
   ]
  },
  {
   "cell_type": "code",
   "execution_count": 18,
   "id": "a6121262",
   "metadata": {},
   "outputs": [
    {
     "name": "stdout",
     "output_type": "stream",
     "text": [
      "Bond, James Bond\n",
      "Angelou, Maya Angelou\n"
     ]
    }
   ],
   "source": [
    "print(introduction(\"James\", \"Bond\"))\n",
    "print(introduction(\"Maya\", \"Angelou\"))"
   ]
  },
  {
   "cell_type": "code",
   "execution_count": 23,
   "id": "40298d84",
   "metadata": {},
   "outputs": [],
   "source": [
    "def dog_years(name, age):\n",
    "    return name + \", \" + \"you are \" + str(age * 7) + \" years old in dog years.\""
   ]
  },
  {
   "cell_type": "code",
   "execution_count": 24,
   "id": "3bf8823b",
   "metadata": {},
   "outputs": [
    {
     "name": "stdout",
     "output_type": "stream",
     "text": [
      "Lola, you are 112 years old in dog years.\n",
      "Baby, you are 0 years old in dog years.\n"
     ]
    }
   ],
   "source": [
    "print(dog_years(\"Lola\", 16))\n",
    "print(dog_years(\"Baby\", 0))"
   ]
  },
  {
   "cell_type": "code",
   "execution_count": 25,
   "id": "9de60e4b",
   "metadata": {},
   "outputs": [],
   "source": [
    "def lots_of_math(a, b, c, d):\n",
    "    first = a + b\n",
    "    second = c - d\n",
    "    third = first * second\n",
    "    fourth = third % a\n",
    "    print(first)\n",
    "    print(second)\n",
    "    print(third)\n",
    "    return fourth"
   ]
  },
  {
   "cell_type": "code",
   "execution_count": 26,
   "id": "271266f1",
   "metadata": {},
   "outputs": [
    {
     "name": "stdout",
     "output_type": "stream",
     "text": [
      "3\n",
      "-1\n",
      "-3\n",
      "0\n",
      "2\n",
      "0\n",
      "0\n",
      "0\n"
     ]
    }
   ],
   "source": [
    "print(lots_of_math(1, 2, 3, 4))\n",
    "print(lots_of_math(1, 1, 1, 1))"
   ]
  },
  {
   "cell_type": "code",
   "execution_count": null,
   "id": "c2191416",
   "metadata": {},
   "outputs": [],
   "source": []
  }
 ],
 "metadata": {
  "kernelspec": {
   "display_name": "Python 3 (ipykernel)",
   "language": "python",
   "name": "python3"
  },
  "language_info": {
   "codemirror_mode": {
    "name": "ipython",
    "version": 3
   },
   "file_extension": ".py",
   "mimetype": "text/x-python",
   "name": "python",
   "nbconvert_exporter": "python",
   "pygments_lexer": "ipython3",
   "version": "3.9.7"
  }
 },
 "nbformat": 4,
 "nbformat_minor": 5
}
