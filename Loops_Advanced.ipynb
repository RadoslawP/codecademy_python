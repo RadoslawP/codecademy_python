{
 "cells": [
  {
   "cell_type": "code",
   "execution_count": 6,
   "id": "aa889edb",
   "metadata": {},
   "outputs": [],
   "source": [
    "def larger_sum(lst1, lst2):\n",
    "    sum1 = 0\n",
    "    sum2 = 0\n",
    "    for number in lst1:\n",
    "        sum1 += number\n",
    "    for number in lst2:\n",
    "        sum2 += number\n",
    "    if sum1 >= sum2:\n",
    "        return lst1\n",
    "    else:\n",
    "        return lst2"
   ]
  },
  {
   "cell_type": "code",
   "execution_count": 7,
   "id": "f4571fad",
   "metadata": {},
   "outputs": [
    {
     "name": "stdout",
     "output_type": "stream",
     "text": [
      "[1, 9, 5]\n"
     ]
    }
   ],
   "source": [
    "print(larger_sum([1, 9, 5], [2, 3, 7]))"
   ]
  },
  {
   "cell_type": "code",
   "execution_count": 12,
   "id": "a14529b2",
   "metadata": {},
   "outputs": [],
   "source": [
    "def over_nine_thousand(lst):\n",
    "    sum = 0\n",
    "    for number in lst:\n",
    "        sum += number\n",
    "        if sum > 9000:\n",
    "            break\n",
    "    return sum"
   ]
  },
  {
   "cell_type": "code",
   "execution_count": 13,
   "id": "bc839c97",
   "metadata": {},
   "outputs": [
    {
     "name": "stdout",
     "output_type": "stream",
     "text": [
      "9020\n"
     ]
    }
   ],
   "source": [
    "print(over_nine_thousand([8000, 900, 120, 5000]))"
   ]
  },
  {
   "cell_type": "code",
   "execution_count": 14,
   "id": "10d6edc1",
   "metadata": {},
   "outputs": [],
   "source": [
    "def max_num(nums):\n",
    "    max = nums[0]\n",
    "    for num in nums:\n",
    "        if max < num:\n",
    "            max = num\n",
    "    return max"
   ]
  },
  {
   "cell_type": "code",
   "execution_count": 15,
   "id": "7f98bcbd",
   "metadata": {},
   "outputs": [
    {
     "name": "stdout",
     "output_type": "stream",
     "text": [
      "75\n"
     ]
    }
   ],
   "source": [
    "print(max_num([50, -10, 0, 75, 20]))"
   ]
  },
  {
   "cell_type": "code",
   "execution_count": 18,
   "id": "b93276e1",
   "metadata": {},
   "outputs": [],
   "source": [
    "def same_values(lst1, lst2):\n",
    "    matching_indices = []\n",
    "    for number in range(len(lst1)):\n",
    "        if lst1[number] == lst2[number]:\n",
    "            matching_indices.append(number)\n",
    "    return matching_indices"
   ]
  },
  {
   "cell_type": "code",
   "execution_count": 21,
   "id": "d50a311c",
   "metadata": {},
   "outputs": [
    {
     "name": "stdout",
     "output_type": "stream",
     "text": [
      "[0, 2, 3]\n"
     ]
    }
   ],
   "source": [
    "print(same_values([5, 1, -10, 3, 3], [5, 10, -10, 3, 5]))"
   ]
  },
  {
   "cell_type": "code",
   "execution_count": 44,
   "id": "18eba623",
   "metadata": {},
   "outputs": [],
   "source": [
    "def reversed_list(lst1, lst2):\n",
    "    reverse = []\n",
    "    for num in range(len(lst1)):\n",
    "        reverse.append(lst1[len(lst1) -1 -num])\n",
    "    if reverse == lst2:\n",
    "        return True\n",
    "    else:\n",
    "        return False"
   ]
  },
  {
   "cell_type": "code",
   "execution_count": 45,
   "id": "7ac35eef",
   "metadata": {},
   "outputs": [
    {
     "name": "stdout",
     "output_type": "stream",
     "text": [
      "True\n",
      "False\n"
     ]
    }
   ],
   "source": [
    "print(reversed_list([1, 2, 3], [3, 2, 1]))\n",
    "print(reversed_list([1, 5, 3], [3, 2, 1]))"
   ]
  },
  {
   "cell_type": "code",
   "execution_count": null,
   "id": "1691d2a7",
   "metadata": {},
   "outputs": [],
   "source": []
  }
 ],
 "metadata": {
  "kernelspec": {
   "display_name": "Python 3 (ipykernel)",
   "language": "python",
   "name": "python3"
  },
  "language_info": {
   "codemirror_mode": {
    "name": "ipython",
    "version": 3
   },
   "file_extension": ".py",
   "mimetype": "text/x-python",
   "name": "python",
   "nbconvert_exporter": "python",
   "pygments_lexer": "ipython3",
   "version": "3.9.7"
  }
 },
 "nbformat": 4,
 "nbformat_minor": 5
}
