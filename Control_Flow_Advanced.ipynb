{
 "cells": [
  {
   "cell_type": "code",
   "execution_count": 2,
   "id": "9efca6e1",
   "metadata": {},
   "outputs": [
    {
     "name": "stdout",
     "output_type": "stream",
     "text": [
      "True\n",
      "False\n"
     ]
    }
   ],
   "source": [
    "def in_range(num, lower, upper):\n",
    "    if num >= lower and num <= upper:\n",
    "        return True\n",
    "    else:\n",
    "        return False\n",
    "    \n",
    "print(in_range(10, 10, 10))\n",
    "print(in_range(5, 10, 20))"
   ]
  },
  {
   "cell_type": "code",
   "execution_count": 3,
   "id": "9b838f32",
   "metadata": {},
   "outputs": [
    {
     "name": "stdout",
     "output_type": "stream",
     "text": [
      "True\n",
      "False\n"
     ]
    }
   ],
   "source": [
    "def same_name(your_name, my_name):\n",
    "    if my_name == your_name:\n",
    "        return True\n",
    "    else:\n",
    "        return False\n",
    "    \n",
    "print(same_name(\"Colby\", \"Colby\"))\n",
    "print(same_name(\"Tina\", \"Amber\"))"
   ]
  },
  {
   "cell_type": "code",
   "execution_count": 19,
   "id": "4d8f5adc",
   "metadata": {},
   "outputs": [],
   "source": [
    "def is_palindrom(word):\n",
    "    new_word = \"\"\n",
    "    for n in range(len(word)):\n",
    "        new_word += (word[-n-1])\n",
    "    \n",
    "    print(word)\n",
    "    print(new_word)\n",
    "    \n",
    "    if word == new_word:\n",
    "        return True\n",
    "    else:\n",
    "        return False"
   ]
  },
  {
   "cell_type": "code",
   "execution_count": 20,
   "id": "1c6de91e",
   "metadata": {},
   "outputs": [
    {
     "name": "stdout",
     "output_type": "stream",
     "text": [
      "4\n",
      "dupa\n",
      "apud\n",
      "False\n",
      "5\n",
      "kajak\n",
      "kajak\n",
      "True\n"
     ]
    }
   ],
   "source": [
    "print(is_palindrom(\"dupa\"))\n",
    "print(is_palindrom(\"kajak\"))"
   ]
  },
  {
   "cell_type": "code",
   "execution_count": 23,
   "id": "6b9dc055",
   "metadata": {},
   "outputs": [],
   "source": [
    "def always_false(num):\n",
    "    if (num > 0 and num < 0):\n",
    "        return True\n",
    "    else:\n",
    "        return False"
   ]
  },
  {
   "cell_type": "code",
   "execution_count": 24,
   "id": "6173f3f0",
   "metadata": {},
   "outputs": [
    {
     "name": "stdout",
     "output_type": "stream",
     "text": [
      "False\n",
      "False\n",
      "False\n"
     ]
    }
   ],
   "source": [
    "print(always_false(0))\n",
    "print(always_false(-1))\n",
    "print(always_false(1))"
   ]
  },
  {
   "cell_type": "code",
   "execution_count": 25,
   "id": "9dbecb90",
   "metadata": {},
   "outputs": [],
   "source": [
    "def movie_review(rating):\n",
    "    if rating <= 5:\n",
    "        return \"Avoid at all costs!\"\n",
    "    elif rating > 5 and rating < 9:\n",
    "        return \"This one was fun.\"\n",
    "    elif rating >= 9:\n",
    "        return \"Outstanding!\""
   ]
  },
  {
   "cell_type": "code",
   "execution_count": 26,
   "id": "203573bc",
   "metadata": {},
   "outputs": [
    {
     "name": "stdout",
     "output_type": "stream",
     "text": [
      "Outstanding!\n",
      "Avoid at all costs!\n",
      "This one was fun.\n"
     ]
    }
   ],
   "source": [
    "print(movie_review(9))\n",
    "print(movie_review(4))\n",
    "print(movie_review(6))"
   ]
  },
  {
   "cell_type": "code",
   "execution_count": 41,
   "id": "662980fb",
   "metadata": {},
   "outputs": [],
   "source": [
    "def max_num(num1, num2, num3):\n",
    "    if num1 > num2 and num1 > num3:\n",
    "        return num1\n",
    "    elif num2 > num1 and num2 > num3:\n",
    "        return num2\n",
    "    elif num3 > num1 and num3 > num2:\n",
    "        return num3\n",
    "    else:\n",
    "        return \"It's a tie!\""
   ]
  },
  {
   "cell_type": "code",
   "execution_count": 42,
   "id": "1e0636af",
   "metadata": {},
   "outputs": [
    {
     "name": "stdout",
     "output_type": "stream",
     "text": [
      "10\n",
      "5\n",
      "-5\n",
      "It's a tie!\n"
     ]
    }
   ],
   "source": [
    "print(max_num(-10, 0, 10))\n",
    "print(max_num(-10, 5, -30))\n",
    "print(max_num(-5, -10, -10))\n",
    "print(max_num(2, 3, 3))"
   ]
  },
  {
   "cell_type": "code",
   "execution_count": null,
   "id": "0585876a",
   "metadata": {},
   "outputs": [],
   "source": []
  }
 ],
 "metadata": {
  "kernelspec": {
   "display_name": "Python 3 (ipykernel)",
   "language": "python",
   "name": "python3"
  },
  "language_info": {
   "codemirror_mode": {
    "name": "ipython",
    "version": 3
   },
   "file_extension": ".py",
   "mimetype": "text/x-python",
   "name": "python",
   "nbconvert_exporter": "python",
   "pygments_lexer": "ipython3",
   "version": "3.9.7"
  }
 },
 "nbformat": 4,
 "nbformat_minor": 5
}
