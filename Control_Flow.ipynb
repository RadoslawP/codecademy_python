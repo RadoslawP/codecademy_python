{
 "cells": [
  {
   "cell_type": "code",
   "execution_count": 1,
   "id": "515c77b4",
   "metadata": {},
   "outputs": [
    {
     "data": {
      "text/plain": [
       "5"
      ]
     },
     "execution_count": 1,
     "metadata": {},
     "output_type": "execute_result"
    }
   ],
   "source": [
    "def first_plus_last(lst):\n",
    "    return lst[0] + lst[-1]\n",
    "\n",
    "first_plus_last([1, 2, 3, 4])"
   ]
  },
  {
   "cell_type": "code",
   "execution_count": 2,
   "id": "29e270d8",
   "metadata": {},
   "outputs": [
    {
     "data": {
      "text/plain": [
       "0"
      ]
     },
     "execution_count": 2,
     "metadata": {},
     "output_type": "execute_result"
    }
   ],
   "source": [
    "first_plus_last([8, 2, 5, -8])"
   ]
  },
  {
   "cell_type": "code",
   "execution_count": 3,
   "id": "953da7b0",
   "metadata": {},
   "outputs": [
    {
     "data": {
      "text/plain": [
       "-14"
      ]
     },
     "execution_count": 3,
     "metadata": {},
     "output_type": "execute_result"
    }
   ],
   "source": [
    "first_plus_last([-10, 2, 3, -4])"
   ]
  },
  {
   "cell_type": "code",
   "execution_count": 4,
   "id": "ab8eef57",
   "metadata": {},
   "outputs": [],
   "source": [
    "def large_power(base, exponet):\n",
    "    power = base ** exponet\n",
    "    if power > 5000:\n",
    "        return True\n",
    "    else:\n",
    "        return False"
   ]
  },
  {
   "cell_type": "code",
   "execution_count": 5,
   "id": "25c521b1",
   "metadata": {},
   "outputs": [
    {
     "name": "stdout",
     "output_type": "stream",
     "text": [
      "True\n"
     ]
    }
   ],
   "source": [
    "print(large_power(2, 13))"
   ]
  },
  {
   "cell_type": "code",
   "execution_count": 6,
   "id": "ea375a7f",
   "metadata": {},
   "outputs": [
    {
     "name": "stdout",
     "output_type": "stream",
     "text": [
      "False\n"
     ]
    }
   ],
   "source": [
    "print(large_power(2, 12))"
   ]
  },
  {
   "cell_type": "code",
   "execution_count": 9,
   "id": "37628106",
   "metadata": {},
   "outputs": [
    {
     "name": "stdout",
     "output_type": "stream",
     "text": [
      "False\n",
      "True\n"
     ]
    }
   ],
   "source": [
    "def over_budget(budget, food_bill, electricity_bill,\n",
    "                internet_bill, rent):\n",
    "    if budget < food_bill + electricity_bill + internet_bill + rent :\n",
    "        return True\n",
    "    else:\n",
    "        return False\n",
    "    \n",
    "print(over_budget(100, 20, 30, 10, 40))\n",
    "print(over_budget(80, 20, 30, 10, 30))"
   ]
  },
  {
   "cell_type": "code",
   "execution_count": 10,
   "id": "9866ae27",
   "metadata": {},
   "outputs": [
    {
     "name": "stdout",
     "output_type": "stream",
     "text": [
      "False\n",
      "True\n"
     ]
    }
   ],
   "source": [
    "def twice_as_large(num1, num2):\n",
    "    if num1 > num2 * 2 :\n",
    "        return True\n",
    "    else:\n",
    "        return False\n",
    "\n",
    "print(twice_as_large(10, 5))\n",
    "print(twice_as_large(11, 5))"
   ]
  },
  {
   "cell_type": "code",
   "execution_count": 11,
   "id": "a1d743a0",
   "metadata": {},
   "outputs": [
    {
     "name": "stdout",
     "output_type": "stream",
     "text": [
      "True\n",
      "False\n"
     ]
    }
   ],
   "source": [
    "def divisible_by_ten(num):\n",
    "    if num % 10 == 0:\n",
    "        return True\n",
    "    else:\n",
    "        return False\n",
    "\n",
    "print(divisible_by_ten(20))\n",
    "print(divisible_by_ten(25))"
   ]
  },
  {
   "cell_type": "code",
   "execution_count": 12,
   "id": "ade570a7",
   "metadata": {},
   "outputs": [
    {
     "name": "stdout",
     "output_type": "stream",
     "text": [
      "True\n",
      "False\n",
      "False\n"
     ]
    }
   ],
   "source": [
    "def not_sum_to_ten(num1, num2):\n",
    "    if num1 + num2 != 10:\n",
    "        return True\n",
    "    else:\n",
    "        return False\n",
    "\n",
    "print(not_sum_to_ten(9, -1))\n",
    "print(not_sum_to_ten(9, 1))\n",
    "print(not_sum_to_ten(5, 5))"
   ]
  },
  {
   "cell_type": "code",
   "execution_count": null,
   "id": "0d982959",
   "metadata": {},
   "outputs": [],
   "source": []
  }
 ],
 "metadata": {
  "kernelspec": {
   "display_name": "Python 3 (ipykernel)",
   "language": "python",
   "name": "python3"
  },
  "language_info": {
   "codemirror_mode": {
    "name": "ipython",
    "version": 3
   },
   "file_extension": ".py",
   "mimetype": "text/x-python",
   "name": "python",
   "nbconvert_exporter": "python",
   "pygments_lexer": "ipython3",
   "version": "3.9.7"
  }
 },
 "nbformat": 4,
 "nbformat_minor": 5
}
