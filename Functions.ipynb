{
 "cells": [
  {
   "cell_type": "code",
   "execution_count": 1,
   "id": "2e93d1b6",
   "metadata": {},
   "outputs": [],
   "source": [
    "def tenth_power(num):\n",
    "    return num ** 10"
   ]
  },
  {
   "cell_type": "code",
   "execution_count": 2,
   "id": "28f2a9fd",
   "metadata": {},
   "outputs": [
    {
     "name": "stdout",
     "output_type": "stream",
     "text": [
      "1\n",
      "0\n",
      "1024\n"
     ]
    }
   ],
   "source": [
    "print(tenth_power(1))\n",
    "print(tenth_power(0))\n",
    "print(tenth_power(2))"
   ]
  },
  {
   "cell_type": "code",
   "execution_count": 7,
   "id": "db573423",
   "metadata": {},
   "outputs": [],
   "source": [
    "def square_root(num):\n",
    "    return num ** 0.5"
   ]
  },
  {
   "cell_type": "code",
   "execution_count": 8,
   "id": "df54fb74",
   "metadata": {},
   "outputs": [
    {
     "name": "stdout",
     "output_type": "stream",
     "text": [
      "4.0\n",
      "10.0\n"
     ]
    }
   ],
   "source": [
    "print(square_root(16))\n",
    "print(square_root(100))"
   ]
  },
  {
   "cell_type": "code",
   "execution_count": 11,
   "id": "f8e6e484",
   "metadata": {},
   "outputs": [],
   "source": [
    "def win_percentage(wins, losses):\n",
    "    total = wins + losses\n",
    "    ratio = wins / total\n",
    "    percentage = ratio * 100\n",
    "    return percentage"
   ]
  },
  {
   "cell_type": "code",
   "execution_count": 12,
   "id": "ff7bb680",
   "metadata": {},
   "outputs": [
    {
     "name": "stdout",
     "output_type": "stream",
     "text": [
      "50.0\n",
      "100.0\n"
     ]
    }
   ],
   "source": [
    "print(win_percentage(5, 5))\n",
    "print(win_percentage(10, 0))"
   ]
  },
  {
   "cell_type": "code",
   "execution_count": 13,
   "id": "f2b725dd",
   "metadata": {},
   "outputs": [],
   "source": [
    "def average(num1, num2):\n",
    "    return (num1 + num2)/2"
   ]
  },
  {
   "cell_type": "code",
   "execution_count": 14,
   "id": "143dc608",
   "metadata": {},
   "outputs": [
    {
     "name": "stdout",
     "output_type": "stream",
     "text": [
      "50.5\n",
      "0.0\n"
     ]
    }
   ],
   "source": [
    "print(average(1, 100))\n",
    "print(average(1, -1))"
   ]
  },
  {
   "cell_type": "code",
   "execution_count": 21,
   "id": "5150a5fd",
   "metadata": {},
   "outputs": [],
   "source": [
    "def remainder(num1, num2):\n",
    "    return (2 * num1) % (num2 / 2)"
   ]
  },
  {
   "cell_type": "code",
   "execution_count": 22,
   "id": "7ffd8dfd",
   "metadata": {},
   "outputs": [
    {
     "name": "stdout",
     "output_type": "stream",
     "text": [
      "2.0\n",
      "0.0\n"
     ]
    }
   ],
   "source": [
    "print(remainder(15, 14))\n",
    "print(remainder(9, 6))"
   ]
  },
  {
   "cell_type": "code",
   "execution_count": null,
   "id": "bfa5f3c7",
   "metadata": {},
   "outputs": [],
   "source": []
  }
 ],
 "metadata": {
  "kernelspec": {
   "display_name": "Python 3 (ipykernel)",
   "language": "python",
   "name": "python3"
  },
  "language_info": {
   "codemirror_mode": {
    "name": "ipython",
    "version": 3
   },
   "file_extension": ".py",
   "mimetype": "text/x-python",
   "name": "python",
   "nbconvert_exporter": "python",
   "pygments_lexer": "ipython3",
   "version": "3.9.7"
  }
 },
 "nbformat": 4,
 "nbformat_minor": 5
}
